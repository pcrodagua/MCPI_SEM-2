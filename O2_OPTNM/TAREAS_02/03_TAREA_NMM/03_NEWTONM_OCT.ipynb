{
 "cells": [
  {
   "cell_type": "markdown",
   "metadata": {},
   "source": [
    "# Newthon Modified"
   ]
  },
  {
   "cell_type": "code",
   "execution_count": 1,
   "metadata": {},
   "outputs": [],
   "source": [
    "function fx = func_multivar(x)\n",
    "    fx = 100*(x(2)-x(1)^2)^2 + (1-x(1))^2;\n",
    "end"
   ]
  },
  {
   "cell_type": "code",
   "execution_count": 2,
   "metadata": {},
   "outputs": [],
   "source": [
    "function deriv = grad_vec(x,delx,n_of_var)\n",
    "    xvec = x;\n",
    "    xvec1 = x;\n",
    "    for i = 1:length(x)\n",
    "        xvec = x;\n",
    "        xvec1 = x;\n",
    "        xvec(i) = x(i) + delx;\n",
    "        xvec1(i) = x(i) - delx;\n",
    "        deriv(i) = (func_multivar(xvec) - func_multivar(xvec1))/(2*delx);\n",
    "    end\n",
    "end"
   ]
  },
  {
   "cell_type": "code",
   "execution_count": 3,
   "metadata": {},
   "outputs": [],
   "source": [
    "function [alpha1,falpha1] = golden_funct1(x,search)\n",
    "    a = -5;\n",
    "    b = 5;\n",
    "    tau = 0.381967;\n",
    "    epsilon = 1e-5;\n",
    "    alpha1 = a*(1-tau) + b*tau;\n",
    "    alpha2 = a*tau + b*(1-tau);\n",
    "    falpha1 = func_multivar(x+alpha1*search);\n",
    "    falpha2 = func_multivar(x+alpha2*search);\n",
    "    for i= 1:1000\n",
    "        if falpha1 > falpha2\n",
    "            a = alpha1;\n",
    "            alpha1 = alpha2;\n",
    "            falpha1 = falpha2;\n",
    "            alpha2 = tau*a + (1-tau)*b;\n",
    "            falpha2 = func_multivar(x+alpha2*search);\n",
    "        else\n",
    "            b = alpha2;\n",
    "            alpha2 = alpha1;\n",
    "            falpha2 = falpha1;\n",
    "            alpha1 = tau*b + (1-tau)*a;\n",
    "            falpha1 = func_multivar(x+alpha1*search);\n",
    "        end\n",
    "        if abs(func_multivar(x+alpha1*search)-func_multivar(x+alpha2*search)) < epsilon\n",
    "            break;\n",
    "        end\n",
    "    end\n",
    "end"
   ]
  },
  {
   "cell_type": "code",
   "execution_count": 4,
   "metadata": {},
   "outputs": [],
   "source": [
    "function sec_deriv = hessian(x, delx, n_of_var)\n",
    "    for i = 1:length(x)\n",
    "        for j = 1:length(x)\n",
    "            if i == j\n",
    "                temp = x;\n",
    "                temp(i) = x(i) + delx;\n",
    "                term1 = func_multivar(temp);\n",
    "                temp(i) = x(i) - delx;\n",
    "                term2 = func_multivar(temp);\n",
    "                term3 = func_multivar(x);\n",
    "                sec_deriv(i, j) = (term1 - 2 * term3 + term2) / (delx ^ 2);\n",
    "            else\n",
    "                temp = x;\n",
    "                temp(i) = x(i) + delx;\n",
    "                temp(j) = x(j) + delx;\n",
    "                term1 = func_multivar(temp);\n",
    "                temp = x;\n",
    "                temp(i) = x(i) + delx;\n",
    "                temp(j) = x(j) - delx;\n",
    "                term2 = func_multivar(temp);\n",
    "                temp = x;\n",
    "                temp(i) = x(i) - delx;\n",
    "                temp(j) = x(j) + delx;\n",
    "                term3 = func_multivar(temp);\n",
    "                temp = x;\n",
    "                temp(i) = x(i) - delx;\n",
    "                temp(j) = x(j) - delx;\n",
    "                term4 = func_multivar(temp);\n",
    "                sec_deriv(i, j) = (term1 - term2 - term3 + term4) / (4 * delx ^ 2);\n",
    "            end\n",
    "        end\n",
    "    end \n",
    "end"
   ]
  },
  {
   "cell_type": "code",
   "execution_count": 5,
   "metadata": {},
   "outputs": [
    {
     "name": "stdout",
     "output_type": "stream",
     "text": [
      "Initial function value =  4.0000\n",
      " No. x-vector f(x) Deriv \n",
      "__________________________________________\n",
      "  1   -0.792    0.585    3.398    4.000 \n",
      "  2   -0.529    0.228    2.604   19.270 \n",
      "  3   -0.186   -0.004    1.553   17.376 \n",
      "  4    0.082   -0.029    0.968    9.256 \n",
      "  5    0.358    0.102    0.480    7.094 \n",
      "  6    0.585    0.322    0.214    5.761 \n",
      "  7    0.792    0.616    0.058    5.625 \n",
      "  8    0.946    0.890    0.005    4.255 \n",
      "  9    0.993    0.987    0.000    1.813 \n",
      " 10    0.993    0.987    0.000    0.326 \n",
      "__________________________________________\n"
     ]
    }
   ],
   "source": [
    "n_of_var = 2;\n",
    "x = [-1 1];\n",
    "epsilon1 = 1e-3;\n",
    "epsilon2 = 1e-3;\n",
    "delx = 1e-3;\n",
    "f_prev = func_multivar(x);\n",
    "fprintf('Initial function value = %7.4f\\n ',f_prev)\n",
    "fprintf('No. x-vector f(x) Deriv \\n')\n",
    "fprintf('__________________________________________\\n')\n",
    "for i = 1:20\n",
    "    falpha_prev = func_multivar(x);\n",
    "    deriv = grad_vec(x,delx,n_of_var);\n",
    "    sec_deriv = hessian(x,delx,n_of_var);\n",
    "    search = -inv(sec_deriv)*deriv';\n",
    "    [alpha,falpha] = golden_funct1(x,search');\n",
    "    if abs(falpha-falpha_prev)<epsilon1 || norm(deriv)<epsilon2\n",
    "        break;\n",
    "    end\n",
    "    falpha_prev = falpha;\n",
    "    x = x + alpha*search';\n",
    "    f = func_multivar(x);\n",
    "    fprintf('%3d %8.3f %8.3f % 8.3f %8.3f \\n',i,x,falpha,norm(deriv))\n",
    "end\n",
    "fprintf('%3d %8.3f %8.3f % 8.3f %8.3f \\n',i,x,falpha,norm(deriv))\n",
    "fprintf('__________________________________________\\n')"
   ]
  },
  {
   "cell_type": "code",
   "execution_count": null,
   "metadata": {},
   "outputs": [],
   "source": []
  }
 ],
 "metadata": {
  "kernelspec": {
   "display_name": "Octave",
   "language": "octave",
   "name": "octave"
  },
  "language_info": {
   "file_extension": ".m",
   "help_links": [
    {
     "text": "GNU Octave",
     "url": "https://www.gnu.org/software/octave/support.html"
    },
    {
     "text": "Octave Kernel",
     "url": "https://github.com/Calysto/octave_kernel"
    },
    {
     "text": "MetaKernel Magics",
     "url": "https://metakernel.readthedocs.io/en/latest/source/README.html"
    }
   ],
   "mimetype": "text/x-octave",
   "name": "octave",
   "version": "4.2.2"
  }
 },
 "nbformat": 4,
 "nbformat_minor": 4
}

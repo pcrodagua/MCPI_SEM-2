{
 "cells": [
  {
   "cell_type": "markdown",
   "metadata": {},
   "source": [
    "## Método de la Secante"
   ]
  },
  {
   "cell_type": "code",
   "execution_count": 28,
   "metadata": {},
   "outputs": [],
   "source": [
    "import numpy as np"
   ]
  },
  {
   "cell_type": "code",
   "execution_count": 22,
   "metadata": {},
   "outputs": [],
   "source": [
    "def secant_method(f, x0, x1, iterations=10):\n",
    "    xs = [x0, x1] + iterations * [None]\n",
    "    print(\"Ite.\\tx_i\\tx_i-1\\tf(x_i)\\tf(x_i-1)\\tx_i+1\\t%Error\")\n",
    "    print(\"--------------------------------------------------------------\")\n",
    "    x1 = None\n",
    "    for i, x in enumerate(xs):\n",
    "        if i < iterations:\n",
    "            x1 = xs[i+1]\n",
    "            try:\n",
    "                xs[i+2] = x1 - f(x1) * (x1 - x) / (f(x1) - f(x))\n",
    "                #error = np.abs()\n",
    "                print(\"{0}\\t{1:.3f}\\t{2:.3f}\\t{3:.3f}\\t{4:.3f}\\t\\t{5:.3f}\\t%{6:.3f}\".format(i+1, xs[i+1], xs[i+2], f(x1), f(x), 0.00, 0.00))\n",
    "            except ZeroDivisionError:\n",
    "                print(\"Reduce number of iterations\")\n",
    "                break\n",
    "    print(\"--------------------------------------------------------------\")\n",
    "    return xs[-1] "
   ]
  },
  {
   "cell_type": "code",
   "execution_count": 27,
   "metadata": {},
   "outputs": [
    {
     "name": "stdout",
     "output_type": "stream",
     "text": [
      "Ite.\tx_i\tx_i-1\tf(x_i)\tf(x_i-1)\tx_i+1\t%Error\n",
      "--------------------------------------------------------------\n",
      "1\t10.000\t19.442\t-381.403\t1234.341\t\t0.000\t%0.000\n",
      "2\t19.442\t9.795\t-17942.381\t-381.403\t\t0.000\t%0.000\n",
      "3\t9.795\t9.597\t-361.374\t-17942.381\t\t0.000\t%0.000\n",
      "4\t9.597\t5.939\t-342.789\t-361.374\t\t0.000\t%0.000\n",
      "5\t5.939\t4.478\t-97.867\t-342.789\t\t0.000\t%0.000\n",
      "6\t4.478\t3.697\t-34.071\t-97.867\t\t0.000\t%0.000\n",
      "7\t3.697\t3.561\t-5.071\t-34.071\t\t0.000\t%0.000\n",
      "8\t3.561\t3.552\t-0.310\t-5.071\t\t0.000\t%0.000\n",
      "9\t3.552\t3.552\t-0.003\t-0.310\t\t0.000\t%0.000\n",
      "10\t3.552\t3.552\t-0.000\t-0.003\t\t0.000\t%0.000\n",
      "--------------------------------------------------------------\n",
      "Root: 3.5519319390290205\n"
     ]
    }
   ],
   "source": [
    "# f = lambda x: x**2 - 3*x - 4\n",
    "f = lambda x: 204165/(330 - 2 * x) + 10400/(x - 20)\n",
    "root = secant_method(f, 50, 10)\n",
    "print(\"Root: {0}\".format(root))"
   ]
  },
  {
   "cell_type": "code",
   "execution_count": null,
   "metadata": {},
   "outputs": [],
   "source": []
  }
 ],
 "metadata": {
  "kernelspec": {
   "display_name": "Python 3",
   "language": "python",
   "name": "python3"
  },
  "language_info": {
   "codemirror_mode": {
    "name": "ipython",
    "version": 3
   },
   "file_extension": ".py",
   "mimetype": "text/x-python",
   "name": "python",
   "nbconvert_exporter": "python",
   "pygments_lexer": "ipython3",
   "version": "3.5.6"
  }
 },
 "nbformat": 4,
 "nbformat_minor": 2
}

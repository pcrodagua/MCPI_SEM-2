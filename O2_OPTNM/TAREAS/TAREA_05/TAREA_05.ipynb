{
 "cells": [
  {
   "cell_type": "markdown",
   "metadata": {},
   "source": [
    "## Newton-Rhapson"
   ]
  },
  {
   "cell_type": "code",
   "execution_count": 1,
   "metadata": {},
   "outputs": [],
   "source": [
    "def dx(f, x, d=0.01):\n",
    "    return (f(x + d) - f(x - d))/(2*d)\n",
    "\n",
    "def dx2(f, a, h=0.01):\n",
    "    return (f(a + h) - (2*f(a))+f(a - h))/(h**2)"
   ]
  },
  {
   "cell_type": "code",
   "execution_count": 2,
   "metadata": {},
   "outputs": [],
   "source": [
    "def newton_rhapson(f, df, x0, eps, max_iter):\n",
    "    x_n = x0\n",
    "    print(\"Ite.\\t\\tx\\t\\tf(x)\\t\\tf'(x)\\t\\tf''x)\")\n",
    "    print(\"-----------------------------------------------------------------------------\")\n",
    "    for n in range(0, max_iter):\n",
    "        f1x_n = dx(f, x_n)\n",
    "        f2x_n = dx2(f, x_n)\n",
    "        \n",
    "        dfx_n = f2x_n\n",
    "        x_n = x_n - f1x_n/dfx_n\n",
    "        print(\"{0}\\t\\t{1:.3f}\\t\\t{2:.3f}\\t\\t{3:.3f}\\t\\t{4:.3f}\".format(n+1, x_n, f(x_n), f1x_n, f2x_n))\n",
    "        if abs(f1x_n) < eps:\n",
    "            return x_n\n",
    "        \n",
    "        if dfx_n == 0:\n",
    "            print('Zero Division Error.')\n",
    "            return None\n",
    "    print('Max iterations exceed')\n",
    "    return None"
   ]
  },
  {
   "cell_type": "code",
   "execution_count": 3,
   "metadata": {},
   "outputs": [
    {
     "name": "stdout",
     "output_type": "stream",
     "text": [
      "Ite.\t\tx\t\tf(x)\t\tf'(x)\t\tf''x)\n",
      "-----------------------------------------------------------------------------\n",
      "1\t\t60.573\t\t1233.877\t\t16.026\t\t0.545\n",
      "2\t\t54.371\t\t1225.327\t\t3.043\t\t0.491\n",
      "3\t\t55.068\t\t1225.163\t\t-0.462\t\t0.663\n",
      "4\t\t55.084\t\t1225.163\t\t-0.010\t\t0.636\n",
      "5\t\t55.084\t\t1225.163\t\t-0.000\t\t0.635\n",
      "6\t\t55.084\t\t1225.163\t\t-0.000\t\t0.635\n",
      "-----------------------------------------------------------------------------\n",
      "55.083562145928205\n"
     ]
    }
   ],
   "source": [
    "# f = lambda x: x**3 - 2*x - 5\n",
    "df = lambda x: 3*x**2 - 2\n",
    "f = lambda x: 204165/(330 - 2 * x) + 10400/(x - 20)\n",
    "approx2 = newton_rhapson(f,df,90,1e-10,100)\n",
    "print(\"-----------------------------------------------------------------------------\")\n",
    "print(approx2)\n"
   ]
  }
 ],
 "metadata": {
  "kernelspec": {
   "display_name": "Python 3",
   "language": "python",
   "name": "python3"
  },
  "language_info": {
   "codemirror_mode": {
    "name": "ipython",
    "version": 3
   },
   "file_extension": ".py",
   "mimetype": "text/x-python",
   "name": "python",
   "nbconvert_exporter": "python",
   "pygments_lexer": "ipython3",
   "version": "3.5.6"
  }
 },
 "nbformat": 4,
 "nbformat_minor": 2
}

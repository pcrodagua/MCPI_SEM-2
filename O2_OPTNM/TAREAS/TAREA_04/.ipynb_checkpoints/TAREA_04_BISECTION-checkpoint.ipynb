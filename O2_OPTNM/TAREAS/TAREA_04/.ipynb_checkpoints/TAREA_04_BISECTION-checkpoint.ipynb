{
 "cells": [
  {
   "cell_type": "code",
   "execution_count": 1,
   "metadata": {},
   "outputs": [],
   "source": [
    "import matplotlib.pyplot as plt\n",
    "import numpy as np\n",
    "%matplotlib inline"
   ]
  },
  {
   "cell_type": "code",
   "execution_count": 2,
   "metadata": {},
   "outputs": [],
   "source": [
    "def dx(f, x, d=0.01):\n",
    "    return (f(x + d) - f(x - d))/(2*d)\n",
    "\n",
    "def calculate_alpha(a, b):\n",
    "    return (a + b)/2\n",
    "\n",
    "def bisection(fun, a, b, d=0.01):\n",
    "    a_1 = a\n",
    "    b_1 = b\n",
    "    alpha = calculate_alpha(a, b)\n",
    "    prod = dx(fun, a)*dx(fun, alpha)\n",
    "    if prod > 0:\n",
    "        a_1 = alpha\n",
    "    else:\n",
    "        b_1 = alpha\n",
    "    return [a_1, b_1]\n",
    "\n",
    "def calculate_bisection(fun, a, b, eps=0.001):\n",
    "    i = 0\n",
    "    limits = [a, b]\n",
    "    print('Ite.\\t\\ta\\t\\tb')\n",
    "    print('---------------------------------------')\n",
    "    print('{0}\\t\\t{1:.3f}\\t\\t{2:.4f}'.format(i, limits[0], limits[1]))\n",
    "    alpha = None\n",
    "    while True:\n",
    "        i += 1\n",
    "        alpha = calculate_alpha(limits[0], limits[1])\n",
    "        limits = bisection(fun, limits[0], limits[1])\n",
    "        print('{0}\\t\\t{1:.3f}\\t\\t{2:.4f}'.format(i, limits[0], limits[1]))\n",
    "        if np.abs(dx(fun, alpha)) < eps:\n",
    "            break\n",
    "        \n",
    "    print('---------------------------------------')\n",
    "    print('')\n",
    "    return alpha\n",
    "    "
   ]
  },
  {
   "cell_type": "code",
   "execution_count": 6,
   "metadata": {},
   "outputs": [
    {
     "name": "stdout",
     "output_type": "stream",
     "text": [
      "Ite.\t\ta\t\tb\n",
      "---------------------------------------\n",
      "0\t\t40.000\t\t90.0000\n",
      "1\t\t40.000\t\t65.0000\n",
      "2\t\t52.500\t\t65.0000\n",
      "3\t\t52.500\t\t58.7500\n",
      "4\t\t52.500\t\t55.6250\n",
      "5\t\t54.062\t\t55.6250\n",
      "6\t\t54.844\t\t55.6250\n",
      "7\t\t54.844\t\t55.2344\n",
      "8\t\t55.039\t\t55.2344\n",
      "9\t\t55.039\t\t55.1367\n",
      "10\t\t55.039\t\t55.0879\n",
      "11\t\t55.063\t\t55.0879\n",
      "12\t\t55.076\t\t55.0879\n",
      "13\t\t55.082\t\t55.0879\n",
      "14\t\t55.082\t\t55.0848\n",
      "---------------------------------------\n",
      "\n",
      "CPU times: user 5.04 ms, sys: 291 µs, total: 5.33 ms\n",
      "Wall time: 7.47 ms\n",
      "55.08483887 1225.16336294\n"
     ]
    }
   ],
   "source": [
    "#function = lambda x: x**2 - x - 1\n",
    "f = lambda x: 204165/(330 - 2 * x) + 10400/(x - 20)\n",
    "%time new_point = calculate_bisection(f, 40, 90)\n",
    "print(\"{0:.8f} {1:.8f}\".format(new_point, f(new_point)))\n"
   ]
  },
  {
   "cell_type": "code",
   "execution_count": null,
   "metadata": {},
   "outputs": [],
   "source": []
  }
 ],
 "metadata": {
  "kernelspec": {
   "display_name": "Python 3",
   "language": "python",
   "name": "python3"
  },
  "language_info": {
   "codemirror_mode": {
    "name": "ipython",
    "version": 3
   },
   "file_extension": ".py",
   "mimetype": "text/x-python",
   "name": "python",
   "nbconvert_exporter": "python",
   "pygments_lexer": "ipython3",
   "version": "3.6.9"
  }
 },
 "nbformat": 4,
 "nbformat_minor": 4
}

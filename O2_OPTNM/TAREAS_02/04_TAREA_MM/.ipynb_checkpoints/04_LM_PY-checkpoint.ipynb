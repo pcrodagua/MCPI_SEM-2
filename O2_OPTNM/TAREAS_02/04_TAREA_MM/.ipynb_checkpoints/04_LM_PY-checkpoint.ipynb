{
 "cells": [
  {
   "cell_type": "markdown",
   "metadata": {},
   "source": [
    "# Levenberg-Marquardt"
   ]
  },
  {
   "cell_type": "code",
   "execution_count": 1,
   "metadata": {},
   "outputs": [],
   "source": [
    "import numpy as np\n",
    "import numpy.linalg as la\n",
    "import scipy.optimize as sopt\n",
    "import matplotlib.pyplot as plt\n",
    "%matplotlib inline\n",
    "# %matplotlib qt"
   ]
  },
  {
   "cell_type": "code",
   "execution_count": 2,
   "metadata": {},
   "outputs": [],
   "source": [
    "def funcx(x):\n",
    "    fx = 100*(np.sqrt(x[0]**2+(x[1]+1)**2)-1)**2 + 90*(np.sqrt(x[0]**2+(x[1]+1)**2)-1)**2 -(20*x[0]+40*x[1])\n",
    "    return fx"
   ]
  },
  {
   "cell_type": "code",
   "execution_count": 3,
   "metadata": {},
   "outputs": [],
   "source": [
    "def gradient(x,delta):\n",
    "    grad=np.zeros(2)\n",
    "    grad[0]=(funcx([x[0]+delta,x[1]])- funcx([x[0]-delta,x[1]]))/(2*delta)\n",
    "    grad[1]=(funcx([x[0],x[1]+delta])- funcx([x[0],x[1]-delta]))/(2*delta)\n",
    "    return grad"
   ]
  },
  {
   "cell_type": "code",
   "execution_count": 4,
   "metadata": {},
   "outputs": [],
   "source": [
    "def golden(x,search,xi,eps):\n",
    "    a = xi[0];\n",
    "    b = xi[1];\n",
    "    tau = 0.381967;\n",
    "    alpha1 = a*(1-tau) + b*tau;\n",
    "    alpha2 = a*tau + b*(1-tau);\n",
    "    falpha1 = funcx(x+alpha1*search);\n",
    "    falpha2 = funcx(x+alpha2*search);\n",
    "    for i in range(100):\n",
    "        if falpha1 > falpha2:\n",
    "            a = alpha1;\n",
    "            alpha1 = alpha2;\n",
    "            falpha1 = falpha2;\n",
    "            alpha2 = tau*a + (1-tau)*b;\n",
    "            falpha2 = funcx(x+alpha2*search);\n",
    "        else:\n",
    "            b = alpha2;\n",
    "            alpha2 = alpha1;\n",
    "            falpha2 = falpha1;\n",
    "            alpha1 = tau*b + (1-tau)*a;\n",
    "            falpha1 = funcx(x+alpha1*search);\n",
    "\n",
    "        if np.abs(funcx(x+alpha1*search)- funcx(x+alpha2*search)) < eps :\n",
    "            break;\n",
    "    return alpha1,falpha1"
   ]
  },
  {
   "cell_type": "code",
   "execution_count": 5,
   "metadata": {},
   "outputs": [],
   "source": [
    "def hessian(x,delta):\n",
    "    H=np.zeros([2,2])\n",
    "    H[0,0]= ( funcx([x[0]+delta,x[1]])  - 2*funcx(x) + funcx([x[0]-delta,x[1]]) )/ delta**2;\n",
    "    H[1,1]= ( funcx([x[0],x[1]+delta])  - 2*funcx(x) + funcx([x[0],x[1]-delta]) )/ delta**2; \n",
    "    H[0,1]= ( funcx([x[0]+delta,x[1]+delta]) - funcx([x[0]+delta,x[1]-delta]) - funcx([x[0]-delta,x[1]+delta]) + funcx([x[0]-delta,x[1]-delta]) )/ (4*(delta**2));\n",
    "    H[1,0]=H[0,1]\n",
    "    return H"
   ]
  },
  {
   "cell_type": "code",
   "execution_count": 7,
   "metadata": {},
   "outputs": [
    {
     "name": "stdout",
     "output_type": "stream",
     "text": [
      "Initial function value = 270.294 \n",
      " No.\tx-vector\tf(x)\tDeriv \n",
      "------------------------------------------\n",
      "0\t[-0.830,0.726]\t146.756\t444.316\n",
      "1\t[-0.625,0.420]\t53.601\t322.405\n",
      "2\t[-0.428,0.193]\t14.428\t184.483\n",
      "3\t[-0.232,0.114]\t3.704\t77.798\n",
      "4\t[0.026,0.128]\t-2.509\t32.798\n",
      "5\t[0.282,0.102]\t-6.126\t20.778\n",
      "6\t[0.426,0.043]\t-7.192\t12.723\n",
      "7\t[0.485,0.009]\t-7.346\t4.861\n",
      "8\t[0.498,0.001]\t-7.353\t1.013\n",
      "9\t[0.500,-0.000]\t-7.353\t0.085\n",
      "------------------------------------------\n"
     ]
    }
   ],
   "source": [
    "delta=1e-3; \n",
    "ep1=1e-3; \n",
    "xi = [-1,1];\n",
    "x = xi;\n",
    "lam = float(1e3);\n",
    "fx_prev=funcx(x)\n",
    "print('Initial function value = {0:.3f} '.format(fx_prev))\n",
    "print(' No.\\tx-vector\\tf(x)\\tDeriv ')\n",
    "print('------------------------------------------')\n",
    "for i in range(30):\n",
    "    fx_prev=funcx(x)\n",
    "    dire=gradient(x,delta)\n",
    "    H=hessian(x,delta)\n",
    "    dire=np.atleast_2d(dire)\n",
    "    si=np.matmul(-la.inv(H+lam*np.eye(len(x))),dire.transpose())\n",
    "    x = x + si.transpose() \n",
    "    x=np.ndarray.flatten(x)\n",
    "    fx_curr = funcx(x)\n",
    "    if fx_curr < fx_prev:\n",
    "        lam = lam/2\n",
    "    else:\n",
    "        lam = 2*lam\n",
    "\n",
    "    if abs(fx_curr-fx_prev)<ep1 or la.norm(dire)<ep1:\n",
    "        break;\n",
    "    print('{0}\\t[{1:.3f},{2:.3f}]\\t{3:.3f}\\t{4:.3f}'.format(i,x[0], x[1],fx_curr,la.norm(dire)))\n",
    "print('{0}\\t[{1:.3f},{2:.3f}]\\t{3:.3f}\\t{4:.3f}'.format(i,x[0], x[1],fx_curr,la.norm(dire)))\n",
    "print('------------------------------------------')"
   ]
  },
  {
   "cell_type": "code",
   "execution_count": null,
   "metadata": {},
   "outputs": [],
   "source": []
  }
 ],
 "metadata": {
  "kernelspec": {
   "display_name": "Python 3",
   "language": "python",
   "name": "python3"
  },
  "language_info": {
   "codemirror_mode": {
    "name": "ipython",
    "version": 3
   },
   "file_extension": ".py",
   "mimetype": "text/x-python",
   "name": "python",
   "nbconvert_exporter": "python",
   "pygments_lexer": "ipython3",
   "version": "3.6.9"
  }
 },
 "nbformat": 4,
 "nbformat_minor": 4
}

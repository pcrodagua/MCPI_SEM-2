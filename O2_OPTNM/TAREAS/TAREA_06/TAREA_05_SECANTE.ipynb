{
 "cells": [
  {
   "cell_type": "markdown",
   "metadata": {},
   "source": [
    "## Método de la Secante"
   ]
  },
  {
   "cell_type": "code",
   "execution_count": 28,
   "metadata": {},
   "outputs": [],
   "source": [
    "import numpy as np"
   ]
  },
  {
   "cell_type": "code",
   "execution_count": 57,
   "metadata": {},
   "outputs": [],
   "source": [
    "def secant_method(f, x0, x1, iterations=10):\n",
    "    xs = [x0, x1] + iterations * [None]\n",
    "    print(\"Ite.\\tx_i\\tx_i-1\\tf(x_i)\\tf(x_i-1)\\tx_i+1\\t%Error\")\n",
    "    print(\"--------------------------------------------------------------\")\n",
    "    x1 = None\n",
    "    for i, x in enumerate(xs):\n",
    "        if i < iterations:\n",
    "            x1 = xs[i+1]\n",
    "            try:\n",
    "                xs[i+2] = x1 - f(x1) * (x1 - x) / (f(x1) - f(x))\n",
    "                #error = np.abs()\n",
    "                print(\"{0}\\t{1:.3f}\\t{2:.3f}\\t{3:.3f}\\t{4:.3f}\\t\\t{5:.3f}\\t%{6:.3f}\".format(i+1, xs[i+1], xs[i+2], f(x1), f(x), 0.00, 0.00))\n",
    "            except ZeroDivisionError:\n",
    "                print(\"Reduce number of iterations\")\n",
    "                break\n",
    "    print(\"--------------------------------------------------------------\")\n",
    "    return xs[-1] "
   ]
  },
  {
   "cell_type": "code",
   "execution_count": 58,
   "metadata": {},
   "outputs": [
    {
     "name": "stdout",
     "output_type": "stream",
     "text": [
      "Ite.\tx_i\tx_i-1\tf(x_i)\tf(x_i-1)\tx_i+1\t%Error\n",
      "--------------------------------------------------------------\n",
      "1\t40.000\t-346.292\t1336.660\t1509.671\t\t0.000\t%0.000\n",
      "2\t-346.292\t-403.061\t171.263\t1336.660\t\t0.000\t%0.000\n",
      "3\t-403.061\t-948.575\t155.121\t171.263\t\t0.000\t%0.000\n",
      "4\t-948.575\t-1543.697\t80.934\t155.121\t\t0.000\t%0.000\n",
      "5\t-1543.697\t-2678.555\t53.092\t80.934\t\t0.000\t%0.000\n",
      "6\t-2678.555\t-4406.522\t32.046\t53.092\t\t0.000\t%0.000\n",
      "7\t-4406.522\t-7268.158\t19.981\t32.046\t\t0.000\t%0.000\n",
      "8\t-7268.158\t-11857.110\t12.306\t19.981\t\t0.000\t%0.000\n",
      "9\t-11857.110\t-19307.310\t7.616\t12.306\t\t0.000\t%0.000\n",
      "10\t-19307.310\t-31346.232\t4.704\t7.616\t\t0.000\t%0.000\n",
      "--------------------------------------------------------------\n",
      "Root: -31346.23213123653\n"
     ]
    }
   ],
   "source": [
    "# f = lambda x: x**2 - 3*x - 4\n",
    "f = lambda x: 204165/(330 - 2 * x) + 10400/(x - 20)\n",
    "root = secant_method(f, 90, 40)\n",
    "print(\"Root: {0}\".format(root))"
   ]
  },
  {
   "cell_type": "code",
   "execution_count": null,
   "metadata": {},
   "outputs": [],
   "source": []
  }
 ],
 "metadata": {
  "kernelspec": {
   "display_name": "Python 3",
   "language": "python",
   "name": "python3"
  },
  "language_info": {
   "codemirror_mode": {
    "name": "ipython",
    "version": 3
   },
   "file_extension": ".py",
   "mimetype": "text/x-python",
   "name": "python",
   "nbconvert_exporter": "python",
   "pygments_lexer": "ipython3",
   "version": "3.5.6"
  }
 },
 "nbformat": 4,
 "nbformat_minor": 2
}

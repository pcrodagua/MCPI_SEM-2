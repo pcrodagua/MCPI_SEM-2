{
 "cells": [
  {
   "cell_type": "code",
   "execution_count": 3,
   "metadata": {},
   "outputs": [],
   "source": [
    "import matplotlib.pyplot as plt\n",
    "import numpy as np\n",
    "%matplotlib inline"
   ]
  },
  {
   "cell_type": "code",
   "execution_count": 14,
   "metadata": {},
   "outputs": [],
   "source": [
    "def dx(f, x, d=0.01):\n",
    "    return (f(x + d) - f(x - d))/(2*d)\n",
    "\n",
    "def calculate_alpha(a, b):\n",
    "    return (a + b)/2\n",
    "\n",
    "def bisection(fun, a, b, d=0.01):\n",
    "    a_1 = a\n",
    "    b_1 = b\n",
    "    alpha = calculate_alpha(a, b)\n",
    "    prod = dx(fun, a)*dx(fun, alpha)\n",
    "    if prod > 0:\n",
    "        a_1 = alpha\n",
    "    else:\n",
    "        b_1 = alpha\n",
    "    return [a_1, b_1]\n",
    "\n",
    "def calculate_bisection(fun, a, b, eps=0.001):\n",
    "    i = 1\n",
    "    limits = [a, b]\n",
    "    print('Ite.\\t\\ta\\t\\tb')\n",
    "    print('---------------------------------------')\n",
    "    print('{0}\\t\\t{1:.3f}\\t\\t{2:.4f}'.format(i, limits[0], limits[1]))\n",
    "    alpha = None\n",
    "    x_x = [0 for x in range(15)]\n",
    "    while True:\n",
    "        alpha = calculate_alpha(limits[0], limits[1])\n",
    "        limits = bisection(fun, limits[0], limits[1])\n",
    "        print('{0}\\t\\t{1:.3f}\\t\\t{2:.4f}'.format(i, limits[0], limits[1]))\n",
    "        if i == 1:\n",
    "            x_x[i] = alpha\n",
    "        else:\n",
    "            x_x[i] = np.abs(alpha - x_x[len(x_x)-1])\n",
    "        if np.abs(dx(fun, alpha)) < eps:\n",
    "            break\n",
    "        i += 1\n",
    "    print('---------------------------------------')\n",
    "    print(x_x)\n",
    "    return alpha    "
   ]
  },
  {
   "cell_type": "code",
   "execution_count": 15,
   "metadata": {},
   "outputs": [
    {
     "name": "stdout",
     "output_type": "stream",
     "text": [
      "Ite.\t\ta\t\tb\n",
      "---------------------------------------\n",
      "1\t\t40.000\t\t90.0000\n",
      "1\t\t40.000\t\t65.0000\n",
      "2\t\t52.500\t\t65.0000\n",
      "3\t\t52.500\t\t58.7500\n",
      "4\t\t52.500\t\t55.6250\n",
      "5\t\t54.062\t\t55.6250\n",
      "6\t\t54.844\t\t55.6250\n",
      "7\t\t54.844\t\t55.2344\n",
      "8\t\t55.039\t\t55.2344\n",
      "9\t\t55.039\t\t55.1367\n",
      "10\t\t55.039\t\t55.0879\n",
      "11\t\t55.063\t\t55.0879\n",
      "12\t\t55.076\t\t55.0879\n",
      "13\t\t55.082\t\t55.0879\n",
      "14\t\t55.082\t\t55.0848\n",
      "---------------------------------------\n",
      "[0, 65.0, 52.5, 58.75, 55.625, 54.0625, 54.84375, 55.234375, 55.0390625, 55.13671875, 55.087890625, 55.0634765625, 55.07568359375, 55.081787109375, 55.0848388671875]\n",
      "CPU times: user 3.22 ms, sys: 3.88 ms, total: 7.1 ms\n",
      "Wall time: 8.98 ms\n",
      "55.08483887 1225.16336294\n"
     ]
    }
   ],
   "source": [
    "#function = lambda x: x**2 - x - 1\n",
    "f = lambda x: 204165/(330 - 2 * x) + 10400/(x - 20)\n",
    "%time new_point = calculate_bisection(f, 40, 90)\n",
    "print(\"{0:.8f} {1:.8f}\".format(new_point, f(new_point)))"
   ]
  },
  {
   "cell_type": "code",
   "execution_count": null,
   "metadata": {},
   "outputs": [],
   "source": []
  }
 ],
 "metadata": {
  "kernelspec": {
   "display_name": "Python 3",
   "language": "python",
   "name": "python3"
  },
  "language_info": {
   "codemirror_mode": {
    "name": "ipython",
    "version": 3
   },
   "file_extension": ".py",
   "mimetype": "text/x-python",
   "name": "python",
   "nbconvert_exporter": "python",
   "pygments_lexer": "ipython3",
   "version": "3.6.9"
  }
 },
 "nbformat": 4,
 "nbformat_minor": 4
}

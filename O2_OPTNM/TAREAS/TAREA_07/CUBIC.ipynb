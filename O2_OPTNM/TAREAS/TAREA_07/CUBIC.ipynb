{
 "cells": [
  {
   "cell_type": "markdown",
   "metadata": {},
   "source": [
    "## Interpolación Cúbica\n",
    "Si los valores de una función $f(x)$ y su derivada se conocen en $x = 0$ y $x = 1$, entonces la función se puede interpolar en el intervalo $[0,1]$ utilizando un polinomio de tercer grado. Esto se llama interpolación cúbica. La fórmula de este polinomio se puede derivar fácilmente.\n",
    "\n",
    "__Def.__ La obtención de nuevos puntos partiendo del conocimiento de un conjunto discreto de puntos.\n",
    "\n",
    "Un polinomio de tercer grado:\n",
    "\n",
    "$ax^3 + bx^2 + cx+ d$\n",
    "\n",
    "Su derivada:\n",
    "\n",
    "$3ax^2 + 2bx + c$\n",
    "\n",
    "Los valores del polinomio y su derivada en $x = 0$ y $x = 1$:\n",
    "\n",
    "- $f(0) = d$\n",
    "- $f(1) = a + b +c + d$\n",
    "- $f'(0) = c$\n",
    "- $f'(1) = 3a + 2b + c$\n",
    "\n",
    "Las cuatro ecuaciones anteriores pueden reescribirse para esto:\n",
    "\n",
    "- $a = 2f(0) - 2f(1) + f'(0) + f'(1)$\n",
    "- $b = -3f(0) + 3f(1) - 2f'(0) - f'(1)$\n",
    "- $c = f'(0)$\n",
    "- $d = f(0)$\n",
    "\n",
    "Y ahí tenemos nuestra fórmula de interpolación cúbica. La interpolación se usa a menudo para interpolar entre una lista de valores. En ese caso no sabemos la derivada de la función. Simplemente podríamos usar la derivada 0 en cada punto, pero obtenemos curvas más suaves cuando usamos la pendiente de una línea entre el punto anterior y el siguiente como derivada en un punto. En ese caso, el polinomio resultante se llama spline Catmull-Rom. Suponga que tiene los valores $p0$, $p1$, $p2$ y $p3$ en $x = -1$, $x = 0$, $x = 1$ y $x = 2$ respectivamente. Entonces podemos asignar los valores de $f(0)$, $f(1)$, $f'(0)$ y $f'(1)$ usando las fórmulas a continuación para interpolar entre $p1$ y $p2$.\n",
    "\n",
    "$f(p_0,p_1,p_2,p_3,x) = (-\\tfrac{1}{2}p_0 + \\tfrac{3}{2}p_1 - \\tfrac{3}{2}p_2 + \\tfrac{1}{2}p_3)x^3 + (p_0 - \\tfrac{5}{2}p_1 + 2p_2 - \\tfrac{1}{2}p_3)x^2 + (-\\tfrac{1}{2}p_0 + \\tfrac{1}{2}p_2)x + p_1$"
   ]
  },
  {
   "cell_type": "markdown",
   "metadata": {},
   "source": [
    "![my_image](plot.jpg)\n",
    "\n",
    "- $a = -\\tfrac{1}{2}\\cdot2 + \\tfrac{3}{2}\\cdot4 - \\tfrac{3}{2}\\cdot2 + \\tfrac{1}{2}\\cdot3 = \\tfrac{7}{2}$\n",
    "- $b = 2 - \\tfrac{5}{2}\\cdot4 + 2\\cdot2 - \\tfrac{1}{2}\\cdot3 = -\\tfrac{11}{2}$\n",
    "- $c = -\\tfrac{1}{2}\\cdot2 + \\tfrac{1}{2}\\cdot2 = 0$\n",
    "- $d = 4$\n",
    "- $f(x) = \\tfrac{7}{2}(x-2)^3 - \\tfrac{11}{2}(x-2)^2 + 4$"
   ]
  },
  {
   "cell_type": "markdown",
   "metadata": {},
   "source": [
    "## Cubic Polynomial Fit\n",
    "\n",
    "En este método, la función $f(x)$ será minimizada a una función polinómica $P(x)$ como: \n",
    "\n",
    "$P(x) = a_0 + a_1 x + a_2 x^2 + a_3 x^3$\n",
    "\n",
    "En la función $f(x)$ se evalúa sobre los cuatro coeficientes de $a_0, a_1, a_2, a_3$. Ahora procede a evaluarese la función en el punto mínimo a evaluar los coeficientes.\n",
    "\n",
    "Si el valor de la función y sus derivados están disponibles en dos puntos, los coeficientes polinómicos aún se pueden evaluar. Una vez que se aproxima un polinomio para la función, el punto mínimo puede ser evaluado utilizando los coeficientes polinómicos. El primer paso en este método de búsqueda es poner entre corchetes el mínimo de la función entre dos puntos, $x_1$ y $x_2$, de modo que se cumplan las siguientes condiciones:\n",
    "\n",
    "$f′(x_1)f′(x_2) < 0$\n",
    "\n",
    "Usando la información de $f(x_1)$, $f′(x_1)$, $f(x_2)$ y $f′(x_2)$, el punto mínimo del polinomio cúbico aproximado se puede dar como:\n",
    "\n",
    "![my_image](2.png)\n",
    "\n",
    "Donde:\n",
    "\n",
    "![my_image](3.png)"
   ]
  },
  {
   "cell_type": "markdown",
   "metadata": {},
   "source": [
    "## Implementación"
   ]
  },
  {
   "cell_type": "code",
   "execution_count": 1,
   "metadata": {},
   "outputs": [],
   "source": [
    "import numpy as np\n",
    "\n",
    "def dx(f, x, d=0.01):\n",
    "    return (f(x + d) - f(x - d))/(2*d)\n",
    "\n",
    "def cubic(f, a, b, iterations=100, eps=0.001):\n",
    "    print('Ite.\\ta\\tb')\n",
    "    print('-------------------------')\n",
    "    x_opt = 0\n",
    "    for i in range(1, 100):\n",
    "        alpha = (a + b)/2\n",
    "        dx_c = dx(f, a)\n",
    "        dx_alpha = dx(f, alpha)\n",
    "        if dx_c*dx_alpha < 0:\n",
    "            b = alpha\n",
    "            break\n",
    "        else:\n",
    "            a = alpha\n",
    "    \n",
    "    for i in range(1, 100):\n",
    "        print('{0}\\t{1:.3f}\\t{2:.3f}'.format(i, a, b))\n",
    "        dx_a = dx(f, a)\n",
    "        dx_b = dx(f, b)\n",
    "        \n",
    "        z = 3 * (f(a) - f(b)) / (b - a) + dx_a + dx_b\n",
    "        w = ((b - a) / np.abs(b - a)) * np.sqrt(z * z - dx_a * dx_b)\n",
    "        miu = (dx_b + w - z) / (dx_b - dx_a + 2 * w)\n",
    "        \n",
    "        if miu <= 1:\n",
    "            x_opt = b - miu*(b - a)\n",
    "        else:\n",
    "            x_opt = a\n",
    "            \n",
    "        alpha_aux = dx(f, x_opt)\n",
    "        \n",
    "        if np.abs(alpha_aux) < eps:\n",
    "            break\n",
    "        else:\n",
    "            if dx_a*alpha_aux < 0:\n",
    "                b = x_opt\n",
    "            else:\n",
    "                a = x_opt\n",
    "    print('-------------------------')\n",
    "    print('{0:.3f} {1:.3f}'.format(x_opt, f(x_opt))) "
   ]
  },
  {
   "cell_type": "code",
   "execution_count": 2,
   "metadata": {},
   "outputs": [
    {
     "name": "stdout",
     "output_type": "stream",
     "text": [
      "Ite.\ta\tb\n",
      "-------------------------\n",
      "1\t40.000\t65.000\n",
      "2\t54.109\t65.000\n",
      "3\t54.109\t55.120\n",
      "-------------------------\n",
      "55.084 1225.163\n"
     ]
    }
   ],
   "source": [
    "f = lambda x: 204165/(330 - 2 * x) + 10400/(x - 20)\n",
    "cubic(f, 40, 90)"
   ]
  }
 ],
 "metadata": {
  "kernelspec": {
   "display_name": "Python 3",
   "language": "python",
   "name": "python3"
  },
  "language_info": {
   "codemirror_mode": {
    "name": "ipython",
    "version": 3
   },
   "file_extension": ".py",
   "mimetype": "text/x-python",
   "name": "python",
   "nbconvert_exporter": "python",
   "pygments_lexer": "ipython3",
   "version": "3.6.9"
  }
 },
 "nbformat": 4,
 "nbformat_minor": 4
}

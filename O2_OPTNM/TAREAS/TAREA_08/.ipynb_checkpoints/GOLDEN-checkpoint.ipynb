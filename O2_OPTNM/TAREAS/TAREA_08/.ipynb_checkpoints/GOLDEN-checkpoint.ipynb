{
 "cells": [
  {
   "cell_type": "code",
   "execution_count": 4,
   "metadata": {},
   "outputs": [],
   "source": [
    "import numpy as np"
   ]
  },
  {
   "cell_type": "code",
   "execution_count": 13,
   "metadata": {},
   "outputs": [],
   "source": [
    "def golden(f, a, b, tau=0.381967, eps=0.001, iterations=100):\n",
    "    alpha_1 = a*(1-tau) + b*tau\n",
    "    alpha_2 = a*tau + b*(1-tau)\n",
    "    falpha_1 = f(alpha_1)\n",
    "    falpha_2 = f(alpha_2)\n",
    "    \n",
    "    print('Ite.\\ta\\tb')\n",
    "    print('-------------------------')\n",
    "    for i in range(1, iterations):\n",
    "        print('{0}\\t{1:.3f}\\t{2:.3f}'.format(i, a, b))\n",
    "        if falpha_1 > falpha_2:\n",
    "            a = alpha_1\n",
    "            alpha_1 = alpha_2\n",
    "            falpha_1 = falpha_2\n",
    "            alpha_2 = tau*a + (1-tau)*b\n",
    "            falpha_2 = f(alpha_2)\n",
    "        else:\n",
    "            b = alpha_2\n",
    "            alpha_2 = alpha_1\n",
    "            falpha_2 = falpha_1\n",
    "            alpha_1 = tau*b + (1-tau)*a\n",
    "            falpha_1 = f(alpha_1)\n",
    "        x_x.append(np.abs(((alpha_1 + alpha_2)/2) - x_x[len(x_x)-1]))\n",
    "        if np.abs(f(alpha_1) - f(alpha_2)) < eps:\n",
    "            break\n",
    "    print('-------------------------')\n",
    "    print(x_x)\n",
    "    print('x = {0:.8f} f(x) = {1:.8f}'.format(alpha_1, f(alpha_1)))"
   ]
  },
  {
   "cell_type": "code",
   "execution_count": 14,
   "metadata": {},
   "outputs": [
    {
     "name": "stdout",
     "output_type": "stream",
     "text": [
      "Ite.\ta\tb\n",
      "-------------------------\n",
      "1\t40.000\t90.000\n",
      "2\t40.000\t70.902\n",
      "3\t40.000\t59.098\n",
      "4\t47.295\t59.098\n",
      "5\t51.803\t59.098\n",
      "6\t51.803\t56.312\n",
      "7\t53.526\t56.312\n",
      "8\t54.590\t56.312\n",
      "9\t54.590\t55.654\n",
      "10\t54.590\t55.248\n",
      "11\t54.841\t55.248\n",
      "12\t54.996\t55.248\n",
      "-------------------------\n",
      "[0, 55.450880272775, 5.901705272774997, 47.29491834207396, 8.15596193070104, 45.90171333700596, 9.017008599598228, 46.43386668921593, 8.688120266871842, 46.230604749984614, 8.813742852960793, 46.30824219942943, 8.765760347168069]\n",
      "x = 55.05567661 f(x) = 1225.16360959\n",
      "CPU times: user 3.62 ms, sys: 4.85 ms, total: 8.47 ms\n",
      "Wall time: 9.5 ms\n"
     ]
    }
   ],
   "source": [
    "f = lambda x: 204165/(330 - 2 * x) + 10400/(x - 20)\n",
    "%time golden(f, 40, 90)"
   ]
  },
  {
   "cell_type": "code",
   "execution_count": 3,
   "metadata": {},
   "outputs": [],
   "source": [
    "# iteracion, teimpo, costo, evaluación con epsilon"
   ]
  }
 ],
 "metadata": {
  "kernelspec": {
   "display_name": "Python 3",
   "language": "python",
   "name": "python3"
  },
  "language_info": {
   "codemirror_mode": {
    "name": "ipython",
    "version": 3
   },
   "file_extension": ".py",
   "mimetype": "text/x-python",
   "name": "python",
   "nbconvert_exporter": "python",
   "pygments_lexer": "ipython3",
   "version": "3.6.9"
  }
 },
 "nbformat": 4,
 "nbformat_minor": 4
}

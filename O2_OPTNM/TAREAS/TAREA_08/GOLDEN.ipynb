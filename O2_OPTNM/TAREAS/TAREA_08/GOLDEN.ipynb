{
 "cells": [
  {
   "cell_type": "code",
   "execution_count": 1,
   "metadata": {},
   "outputs": [],
   "source": [
    "import numpy as np"
   ]
  },
  {
   "cell_type": "code",
   "execution_count": 12,
   "metadata": {},
   "outputs": [],
   "source": [
    "def golden(f, a, b, tau=0.381967, eps=0.001, iterations=100):\n",
    "    alpha_1 = a*(1-tau) + b*tau\n",
    "    alpha_2 = a*tau + b*(1-tau)\n",
    "    falpha_1 = f(alpha_1)\n",
    "    falpha_2 = f(alpha_2)\n",
    "    \n",
    "    print('Ite.\\ta\\tb')\n",
    "    print('-------------------------')\n",
    "    x_x = [0 for x in range(15)]\n",
    "    for i in range(0, iterations):\n",
    "        print('{0}\\t{1:.3f}\\t{2:.3f}'.format(i, a, b))\n",
    "        \n",
    "        if i == 1:\n",
    "            if falpha_1 > falpha_2:\n",
    "                x_x[i] = alpha_1\n",
    "            else:\n",
    "                x_x[i] = alpha_2\n",
    "        else:\n",
    "            if falpha_1 > falpha_2:\n",
    "                x_x[i] = np.abs(alpha_1 - x_x[len(x_x)-1])\n",
    "            else:\n",
    "                x_x[i] = np.abs(alpha_2 - x_x[len(x_x)-1]) \n",
    "        \n",
    "        if falpha_1 > falpha_2:\n",
    "            a = alpha_1\n",
    "            alpha_1 = alpha_2\n",
    "            falpha_1 = falpha_2\n",
    "            alpha_2 = tau*a + (1-tau)*b\n",
    "            falpha_2 = f(alpha_2)\n",
    "        else:\n",
    "            b = alpha_2\n",
    "            alpha_2 = alpha_1\n",
    "            falpha_2 = falpha_1\n",
    "            alpha_1 = tau*b + (1-tau)*a\n",
    "            falpha_1 = f(alpha_1)\n",
    "        \n",
    "        \n",
    "        if np.abs(f(alpha_1) - f(alpha_2)) < eps:\n",
    "            break\n",
    "    print('-------------------------')\n",
    "    print(x_x)\n",
    "    print('x = {0:.8f} f(x) = {1:.8f}'.format(alpha_1, f(alpha_1)))"
   ]
  },
  {
   "cell_type": "code",
   "execution_count": 13,
   "metadata": {},
   "outputs": [
    {
     "name": "stdout",
     "output_type": "stream",
     "text": [
      "Ite.\ta\tb\n",
      "-------------------------\n",
      "0\t40.000\t90.000\n",
      "1\t40.000\t70.902\n",
      "2\t40.000\t59.098\n",
      "3\t47.295\t59.098\n",
      "4\t51.803\t59.098\n",
      "5\t51.803\t56.312\n",
      "6\t53.526\t56.312\n",
      "7\t54.590\t56.312\n",
      "8\t54.590\t55.654\n",
      "9\t54.590\t55.248\n",
      "10\t54.841\t55.248\n",
      "11\t54.996\t55.248\n",
      "-------------------------\n",
      "[70.90165, 59.098349999999996, 47.29493945445, 51.80341054555001, 56.3119238614021, 53.52551385126608, 54.589836684147905, 55.654143388567846, 55.247607189060474, 54.841083310597845, 54.996366723115074, 55.1516416220047, 0, 0, 0]\n",
      "x = 55.05567661 f(x) = 1225.16360959\n",
      "CPU times: user 6.14 ms, sys: 0 ns, total: 6.14 ms\n",
      "Wall time: 4.13 ms\n"
     ]
    }
   ],
   "source": [
    "f = lambda x: 204165/(330 - 2 * x) + 10400/(x - 20)\n",
    "%time golden(f, 40, 90)"
   ]
  },
  {
   "cell_type": "code",
   "execution_count": 4,
   "metadata": {},
   "outputs": [],
   "source": [
    "# iteracion, teimpo, costo, evaluación con epsilon"
   ]
  }
 ],
 "metadata": {
  "kernelspec": {
   "display_name": "Python 3",
   "language": "python",
   "name": "python3"
  },
  "language_info": {
   "codemirror_mode": {
    "name": "ipython",
    "version": 3
   },
   "file_extension": ".py",
   "mimetype": "text/x-python",
   "name": "python",
   "nbconvert_exporter": "python",
   "pygments_lexer": "ipython3",
   "version": "3.6.9"
  }
 },
 "nbformat": 4,
 "nbformat_minor": 4
}

{
 "cells": [
  {
   "cell_type": "code",
   "execution_count": 1,
   "metadata": {},
   "outputs": [],
   "source": [
    "import math\n",
    "import numpy as np\n",
    "import sympy as sy\n",
    "import matplotlib.pyplot as plt\n",
    "from sympy.functions import sin,cos"
   ]
  },
  {
   "cell_type": "markdown",
   "metadata": {},
   "source": [
    "$$ f(x) = 2sin(5x) + 3x^3 - 2x^2 + 3x -5$$"
   ]
  },
  {
   "cell_type": "code",
   "execution_count": 2,
   "metadata": {},
   "outputs": [],
   "source": [
    "def dx(f, x, d=0.01):\n",
    "    return (f(x + d) - f(x - d))/(2*d)"
   ]
  },
  {
   "cell_type": "code",
   "execution_count": 3,
   "metadata": {},
   "outputs": [],
   "source": [
    "def dx2(f, a, h=0.01):\n",
    "    return (f(a + h) - (2*f(a))+f(a - h))/(h**2)"
   ]
  },
  {
   "cell_type": "code",
   "execution_count": 4,
   "metadata": {},
   "outputs": [],
   "source": [
    "def fofx(x):\n",
    "    return (2*np.sin(5*x)+(3*(x**3))-(2*(x**2))+(3*(x))-5)"
   ]
  },
  {
   "cell_type": "code",
   "execution_count": 5,
   "metadata": {},
   "outputs": [],
   "source": [
    "x_values = np.linspace(0, 1, 100)\n",
    "y_values = fofx(x_values)\n",
    "dx  = dx(fofx, x_values)\n",
    "dx2 = dx2(fofx, x_values)"
   ]
  },
  {
   "cell_type": "code",
   "execution_count": 6,
   "metadata": {},
   "outputs": [
    {
     "data": {
      "image/png": "[encoded data removed]",
      "text/plain": [
       "<matplotlib.figure.Figure at 0x7f6b92283fd0>"
      ]
     },
     "metadata": {
      "needs_background": "light"
     },
     "output_type": "display_data"
    }
   ],
   "source": [
    "\n",
    "plt.plot(x_values, y_values, label='y=f(x)', color='green', linestyle='-')\n",
    "plt.plot(x_values, dx, label=\"y=f'(x)\", color='red', linestyle='-.')\n",
    "plt.plot(x_values, dx2, label=\"y=f''(x)\", color='blue', linestyle='--')\n",
    "plt.title(\"Derivada Central\")\n",
    "plt.xlabel(\"x\")\n",
    "plt.ylabel(\"y\")\n",
    "plt.legend(loc=\"lower right\")\n",
    "plt.grid()\n",
    "plt.show()"
   ]
  },
  {
   "cell_type": "code",
   "execution_count": 7,
   "metadata": {},
   "outputs": [
    {
     "data": {
      "text/plain": [
       "array([ 12.99613385,  12.94390231,  12.86804826,  12.76866914,\n",
       "        12.64592706,  12.50004838,  12.33132317,  12.14010444,\n",
       "        11.92680723,  11.69190759,  11.43594134,  11.15950271,\n",
       "        10.8632428 ,  10.54786797,  10.214138  ,   9.86286416,\n",
       "         9.49490715,   9.1111749 ,   8.71262025,   8.30023853,\n",
       "         7.875065  ,   7.43817224,   6.9906674 ,   6.53368936,\n",
       "         6.06840588,   5.59601054,   5.11771976,   4.63476969,\n",
       "         4.14841302,   3.65991584,   3.17055437,   2.68161169,\n",
       "         2.19437455,   1.71012998,   1.23016211,   0.75574881,\n",
       "         0.28815849,  -0.17135318,  -0.62154641,  -1.06120053,\n",
       "        -1.48911704,  -1.9041227 ,  -2.30507251,  -2.69085262,\n",
       "        -3.0603832 ,  -3.41262118,  -3.74656287,  -4.06124661,\n",
       "        -4.35575512,  -4.62921791,  -4.88081349,  -5.10977141,\n",
       "        -5.31537432,  -5.49695972,  -5.65392166,  -5.78571233,\n",
       "        -5.89184342,  -5.97188738,  -6.02547847,  -6.05231378,\n",
       "        -6.05215392,  -6.02482364,  -5.97021235,  -5.8882743 ,\n",
       "        -5.77902876,  -5.64255998,  -5.47901692,  -5.28861291,\n",
       "        -5.07162511,  -4.82839378,  -4.55932143,  -4.26487177,\n",
       "        -3.94556857,  -3.60199428,  -3.23478856,  -2.84464668,\n",
       "        -2.43231767,  -1.99860251,  -1.544352  ,  -1.07046464,\n",
       "        -0.57788432,  -0.06759793,   0.45936718,   1.00194582,\n",
       "         1.55903764,   2.12950999,   2.71220075,   3.30592135,\n",
       "         3.90945976,   4.52158361,   5.14104329,   5.76657521,\n",
       "         6.39690494,   7.03075051,   7.66682568,   8.30384319,\n",
       "         8.94051806,   9.57557089,  10.20773107,  10.83574008])"
      ]
     },
     "execution_count": 7,
     "metadata": {},
     "output_type": "execute_result"
    }
   ],
   "source": [
    "dx"
   ]
  },
  {
   "cell_type": "code",
   "execution_count": 9,
   "metadata": {},
   "outputs": [
    {
     "data": {
      "text/plain": [
       "array([ -4.        ,  -6.3418351 ,  -8.67723434, -10.99977825,\n",
       "       -13.30308018, -15.58080252, -17.82667291, -20.03450022,\n",
       "       -22.19819032, -24.31176166, -26.3693605 , -28.36527584,\n",
       "       -30.29395397, -32.15001268, -33.92825493, -35.62368214,\n",
       "       -37.23150693, -38.74716532, -40.16632837, -41.48491324,\n",
       "       -42.69909355, -43.80530923, -44.80027549, -45.68099129,\n",
       "       -46.44474693, -47.08913098, -47.61203646, -48.01166616,\n",
       "       -48.28653727, -48.43548513, -48.45766621, -48.35256028,\n",
       "       -48.11997169, -47.76002992, -47.27318923, -46.66022749,\n",
       "       -45.92224421, -45.06065774, -44.07720163, -42.97392023,\n",
       "       -41.75316347, -40.41758088, -38.9701148 , -37.41399292,\n",
       "       -35.75272   , -33.99006898, -32.13007133, -30.17700677,\n",
       "       -28.13539236, -26.009971  , -23.80569929, -21.52773492,\n",
       "       -19.18142354, -16.77228507, -14.30599965, -11.78839319,\n",
       "        -9.22542245,  -6.62315989,  -3.98777816,  -1.3255344 ,\n",
       "         1.35724578,   4.05418438,   6.75886728,   9.46486064,\n",
       "        12.16572725,  14.855043  ,  17.52641323,  20.17348902,\n",
       "        22.78998343,  25.36968752,  27.90648615,  30.3943736 ,\n",
       "        32.8274689 ,  35.20003079,  37.50647241,  39.74137551,\n",
       "        41.89950425,  43.97581864,  45.96548728,  47.86389977,\n",
       "        49.6666784 ,  51.3696894 ,  52.96905336,  54.46115526,\n",
       "        55.84265358,  57.11048887,  58.26189155,  59.29438897,\n",
       "        60.20581171,  60.99429913,  61.65830408,  62.19659689,\n",
       "        62.60826845,  62.89273261,  63.04972758,  63.07931668,\n",
       "        62.98188812,  62.75815404,  62.40914868,  61.93622577])"
      ]
     },
     "execution_count": 9,
     "metadata": {},
     "output_type": "execute_result"
    }
   ],
   "source": [
    "dx2"
   ]
  },
  {
   "cell_type": "code",
   "execution_count": null,
   "metadata": {},
   "outputs": [],
   "source": []
  }
 ],
 "metadata": {
  "kernelspec": {
   "display_name": "Python 3",
   "language": "python",
   "name": "python3"
  },
  "language_info": {
   "codemirror_mode": {
    "name": "ipython",
    "version": 3
   },
   "file_extension": ".py",
   "mimetype": "text/x-python",
   "name": "python",
   "nbconvert_exporter": "python",
   "pygments_lexer": "ipython3",
   "version": "3.5.6"
  }
 },
 "nbformat": 4,
 "nbformat_minor": 2
}

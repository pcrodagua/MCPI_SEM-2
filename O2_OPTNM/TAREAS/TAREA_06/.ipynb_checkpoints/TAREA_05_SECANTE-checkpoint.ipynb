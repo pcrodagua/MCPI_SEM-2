{
 "cells": [
  {
   "cell_type": "markdown",
   "metadata": {},
   "source": [
    "## Método de la Secante"
   ]
  },
  {
   "cell_type": "code",
   "execution_count": 5,
   "metadata": {},
   "outputs": [],
   "source": [
    "import numpy as np"
   ]
  },
  {
   "cell_type": "code",
   "execution_count": 8,
   "metadata": {},
   "outputs": [],
   "source": [
    "def dx(f, x, d=0.01):\n",
    "    return (f(x + d) - f(x - d))/(2*d)\n",
    "\n",
    "def secant_method(f, a, b, iterations=100, epsilon=0.001):\n",
    "    print('Ite.\\tAlpha\\tDeriv.')\n",
    "    print('-------------------------')\n",
    "    x_x = [0 for x in range(15)]\n",
    "    for i in range(0, iterations):\n",
    "        alpha = (a+b)/2\n",
    "        derivative = dx(f, a)\n",
    "        derivative_alpha = dx(f, alpha)\n",
    "        if (derivative*derivative_alpha) < 0:\n",
    "            b = alpha\n",
    "            break\n",
    "        else:\n",
    "            a = alpha\n",
    "\n",
    "    for j in range(0, iterations):\n",
    "        print('{0}\\t{1:.3f}\\t{2:.3f}'.format(j, alpha,derivative_alpha))\n",
    "        derivative_a = dx(f, a)\n",
    "        derivative_b = dx(f, b)\n",
    "        alpha = b - derivative_b*(b-a)/(derivative_b-derivative_a)\n",
    "        derivative_alpha = dx(f, alpha)\n",
    "        x_x[j] = np.abs(alpha - x_x[len(x_x)-1])\n",
    "        if derivative_alpha > 0:\n",
    "            b = alpha\n",
    "        else:\n",
    "            a = alpha\n",
    "        if abs(derivative_alpha) < epsilon:\n",
    "            break\n",
    "    print(x_x)\n",
    "\n",
    "    print('-------------------------\\n')\n",
    "    print('x* = {0:.8f} Minimum = {1:.8f}\\n'.format(alpha,f(alpha)))\n",
    "    "
   ]
  },
  {
   "cell_type": "code",
   "execution_count": 9,
   "metadata": {},
   "outputs": [
    {
     "name": "stdout",
     "output_type": "stream",
     "text": [
      "Ite.\tAlpha\tDeriv.\n",
      "-------------------------\n",
      "0\t52.500\t-1.780\n",
      "1\t55.748\t0.414\n",
      "2\t54.925\t-0.101\n",
      "3\t55.087\t0.002\n",
      "[55.74752404026507, 54.92531591417481, 55.08659790207917, 55.083576161047276, 0, 0, 0, 0, 0, 0, 0, 0, 0, 0, 0]\n",
      "-------------------------\n",
      "\n",
      "x* = 55.08357616 Minimum = 1225.16336242\n",
      "\n",
      "CPU times: user 7.48 ms, sys: 7.85 ms, total: 15.3 ms\n",
      "Wall time: 12 ms\n"
     ]
    }
   ],
   "source": [
    "f = lambda x: 204165/(330 - 2 * x) + 10400/(x - 20)\n",
    "%time root = secant_method(f, 90, 40)"
   ]
  },
  {
   "cell_type": "code",
   "execution_count": null,
   "metadata": {},
   "outputs": [],
   "source": []
  }
 ],
 "metadata": {
  "kernelspec": {
   "display_name": "Python 3",
   "language": "python",
   "name": "python3"
  },
  "language_info": {
   "codemirror_mode": {
    "name": "ipython",
    "version": 3
   },
   "file_extension": ".py",
   "mimetype": "text/x-python",
   "name": "python",
   "nbconvert_exporter": "python",
   "pygments_lexer": "ipython3",
   "version": "3.6.9"
  }
 },
 "nbformat": 4,
 "nbformat_minor": 4
}

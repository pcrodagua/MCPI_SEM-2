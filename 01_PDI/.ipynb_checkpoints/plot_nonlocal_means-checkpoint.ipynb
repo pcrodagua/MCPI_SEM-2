{
 "cells": [
  {
   "cell_type": "code",
   "execution_count": null,
   "metadata": {
    "collapsed": false,
    "jupyter": {
     "outputs_hidden": false
    }
   },
   "outputs": [],
   "source": [
    "%matplotlib inline"
   ]
  },
  {
   "cell_type": "markdown",
   "metadata": {},
   "source": [
    "\n",
    "# Non-local means denoising for preserving textures\n",
    "\n",
    "\n",
    "In this example, we denoise a detail of the astronaut image using the non-local\n",
    "means filter. The non-local means algorithm replaces the value of a pixel by an\n",
    "average of a selection of other pixels values: small patches centered on the\n",
    "other pixels are compared to the patch centered on the pixel of interest, and\n",
    "the average is performed only for pixels that have patches close to the current\n",
    "patch. As a result, this algorithm can restore well textures, that would be\n",
    "blurred by other denoising algorithm.\n",
    "\n",
    "When the ``fast_mode`` argument is ``False``, a spatial Gaussian weighting is\n",
    "applied to the patches when computing patch distances.  When ``fast_mode`` is\n",
    "``True`` a faster algorithm employing uniform spatial weighting on the patches\n",
    "is applied.\n",
    "\n",
    "For either of these cases, if the noise standard deviation, ``sigma``, is\n",
    "provided, the expected noise variance is subtracted out when computing patch\n",
    "distances.  This can lead to a modest improvement in image quality.\n",
    "\n",
    "The ``estimate_sigma`` function can provide a good starting point for setting\n",
    "the ``h`` (and optionally, ``sigma``) parameters for the non-local means algorithm.\n",
    "``h`` is a constant that controls the decay in patch weights as a function of the\n",
    "distance between patches.  Larger ``h`` allows more smoothing between disimilar\n",
    "patches.\n",
    "\n",
    "In this demo, ``h``, was hand-tuned to give the approximate best-case performance\n",
    "of each variant.\n"
   ]
  },
  {
   "cell_type": "code",
   "execution_count": 3,
   "metadata": {
    "collapsed": false,
    "jupyter": {
     "outputs_hidden": false
    }
   },
   "outputs": [
    {
     "ename": "ImportError",
     "evalue": "No module named 'skimage'",
     "output_type": "error",
     "traceback": [
      "\u001b[0;31m---------------------------------------------------------------------------\u001b[0m",
      "\u001b[0;31mImportError\u001b[0m                               Traceback (most recent call last)",
      "\u001b[0;32m<ipython-input-3-30293fb8c655>\u001b[0m in \u001b[0;36m<module>\u001b[0;34m()\u001b[0m\n\u001b[1;32m      3\u001b[0m \u001b[0;32mimport\u001b[0m \u001b[0mmatplotlib\u001b[0m\u001b[0;34m.\u001b[0m\u001b[0mpyplot\u001b[0m \u001b[0;32mas\u001b[0m \u001b[0mplt\u001b[0m\u001b[0;34m\u001b[0m\u001b[0m\n\u001b[1;32m      4\u001b[0m \u001b[0;34m\u001b[0m\u001b[0m\n\u001b[0;32m----> 5\u001b[0;31m \u001b[0;32mfrom\u001b[0m \u001b[0mskimage\u001b[0m \u001b[0;32mimport\u001b[0m \u001b[0mdata\u001b[0m\u001b[0;34m,\u001b[0m \u001b[0mimg_as_float\u001b[0m\u001b[0;34m\u001b[0m\u001b[0m\n\u001b[0m\u001b[1;32m      6\u001b[0m \u001b[0;32mfrom\u001b[0m \u001b[0mskimage\u001b[0m\u001b[0;34m.\u001b[0m\u001b[0mrestoration\u001b[0m \u001b[0;32mimport\u001b[0m \u001b[0mdenoise_nl_means\u001b[0m\u001b[0;34m,\u001b[0m \u001b[0mestimate_sigma\u001b[0m\u001b[0;34m\u001b[0m\u001b[0m\n\u001b[1;32m      7\u001b[0m \u001b[0;32mfrom\u001b[0m \u001b[0mskimage\u001b[0m\u001b[0;34m.\u001b[0m\u001b[0mmetrics\u001b[0m \u001b[0;32mimport\u001b[0m \u001b[0mpeak_signal_noise_ratio\u001b[0m\u001b[0;34m\u001b[0m\u001b[0m\n",
      "\u001b[0;31mImportError\u001b[0m: No module named 'skimage'"
     ]
    }
   ],
   "source": [
    "import time\n",
    "import numpy as np\n",
    "import matplotlib.pyplot as plt\n",
    "\n",
    "from skimage import data, img_as_float\n",
    "from skimage.restoration import denoise_nl_means, estimate_sigma\n",
    "from skimage.metrics import peak_signal_noise_ratio\n",
    "from skimage.util import random_noise\n",
    "\n",
    "start_time = time.time()\n",
    "astro = img_as_float(data.astronaut())\n",
    "astro = astro[30:180, 150:300]\n",
    "\n",
    "sigma = 0.08\n",
    "noisy = random_noise(astro, var=sigma**2)\n",
    "\n",
    "# estimate the noise standard deviation from the noisy image\n",
    "sigma_est = np.mean(estimate_sigma(noisy, multichannel=True))\n",
    "print(\"estimated noise standard deviation = {0}\".format(sigma_est))\n",
    "\n",
    "patch_kw = dict(patch_size=5,      # 5x5 patches\n",
    "                patch_distance=6,  # 13x13 search area\n",
    "                multichannel=True)\n",
    "\n",
    "# slow algorithm\n",
    "denoise = denoise_nl_means(noisy, h=1.15 * sigma_est, fast_mode=False,\n",
    "                           **patch_kw)\n",
    "\n",
    "# slow algorithm, sigma provided\n",
    "denoise2 = denoise_nl_means(noisy, h=0.8 * sigma_est, sigma=sigma_est,\n",
    "                            fast_mode=False, **patch_kw)\n",
    "\n",
    "# fast algorithm\n",
    "denoise_fast = denoise_nl_means(noisy, h=0.8 * sigma_est, fast_mode=True,\n",
    "                                **patch_kw)\n",
    "\n",
    "# fast algorithm, sigma provided\n",
    "denoise2_fast = denoise_nl_means(noisy, h=0.6 * sigma_est, sigma=sigma_est,\n",
    "                                 fast_mode=True, **patch_kw)\n",
    "\n",
    "fig, ax = plt.subplots(nrows=2, ncols=3, figsize=(8, 6),\n",
    "                       sharex=True, sharey=True)\n",
    "\n",
    "ax[0, 0].imshow(noisy)\n",
    "ax[0, 0].axis('off')\n",
    "ax[0, 0].set_title('noisy')\n",
    "ax[0, 1].imshow(denoise)\n",
    "ax[0, 1].axis('off')\n",
    "ax[0, 1].set_title('non-local means\\n(slow)')\n",
    "ax[0, 2].imshow(denoise2)\n",
    "ax[0, 2].axis('off')\n",
    "ax[0, 2].set_title('non-local means\\n(slow, using $\\sigma_{est}$)')\n",
    "ax[1, 0].imshow(astro)\n",
    "ax[1, 0].axis('off')\n",
    "ax[1, 0].set_title('original\\n(noise free)')\n",
    "ax[1, 1].imshow(denoise_fast)\n",
    "ax[1, 1].axis('off')\n",
    "ax[1, 1].set_title('non-local means\\n(fast)')\n",
    "ax[1, 2].imshow(denoise2_fast)\n",
    "ax[1, 2].axis('off')\n",
    "ax[1, 2].set_title('non-local means\\n(fast, using $\\sigma_{est}$)')\n",
    "\n",
    "fig.tight_layout()\n",
    "\n",
    "# print PSNR metric for each case\n",
    "psnr_noisy = peak_signal_noise_ratio(astro, noisy)\n",
    "psnr = peak_signal_noise_ratio(astro, denoise)\n",
    "psnr2 = peak_signal_noise_ratio(astro, denoise2)\n",
    "psnr_fast = peak_signal_noise_ratio(astro, denoise_fast)\n",
    "psnr2_fast = peak_signal_noise_ratio(astro, denoise2_fast)\n",
    "\n",
    "print(\"PSNR (noisy) = {0:2f}\".format(psnr_noisy))\n",
    "print(\"PSNR (slow) = {0:2f}\".format(psnr))\n",
    "print(\"PSNR (slow, using sigma) = {0:2f}\".format(psnr2))\n",
    "print(\"PSNR (fast) = {0:2f}\".format(psnr_fast))\n",
    "print(\"PSNR (fast, using sigma) = {0:2f}\".format(psnr2_fast))\n",
    "\n",
    "plt.show()\n",
    "\n",
    "difference_time = time.time() - start_time\n",
    "print(\"Seconds: {0}\\nMinutes: {1:.3f}\".format(difference_time, difference_time/60))"
   ]
  },
  {
   "cell_type": "code",
   "execution_count": null,
   "metadata": {},
   "outputs": [],
   "source": []
  }
 ],
 "metadata": {
  "kernelspec": {
   "display_name": "Python 3",
   "language": "python",
   "name": "python3"
  },
  "language_info": {
   "codemirror_mode": {
    "name": "ipython",
    "version": 3
   },
   "file_extension": ".py",
   "mimetype": "text/x-python",
   "name": "python",
   "nbconvert_exporter": "python",
   "pygments_lexer": "ipython3",
   "version": "3.5.6"
  }
 },
 "nbformat": 4,
 "nbformat_minor": 4
}

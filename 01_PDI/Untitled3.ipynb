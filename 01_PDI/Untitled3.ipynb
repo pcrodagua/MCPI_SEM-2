{
 "cells": [
  {
   "cell_type": "code",
   "execution_count": 2,
   "metadata": {},
   "outputs": [],
   "source": [
    "import numpy as np\n",
    "from matplotlib import pyplot as plt\n",
    "%matplotlib inline"
   ]
  },
  {
   "cell_type": "code",
   "execution_count": 4,
   "metadata": {},
   "outputs": [
    {
     "ename": "SyntaxError",
     "evalue": "invalid syntax (<ipython-input-4-0e6b8ba635cd>, line 4)",
     "output_type": "error",
     "traceback": [
      "\u001b[0;36m  File \u001b[0;32m\"<ipython-input-4-0e6b8ba635cd>\"\u001b[0;36m, line \u001b[0;32m4\u001b[0m\n\u001b[0;31m    t = (0:L-1)*T  # time vector\u001b[0m\n\u001b[0m          ^\u001b[0m\n\u001b[0;31mSyntaxError\u001b[0m\u001b[0;31m:\u001b[0m invalid syntax\n"
     ]
    }
   ],
   "source": [
    "Fs = 1000 # sampling frequency\n",
    "T = 1/Fs  # Sample time\n",
    "L = 1500  # Length of signal\n",
    "t = (0:L-1)*T  # time vector\n",
    "\n",
    "# sum of a 50Hx sinusoid and 120 Hz sinusoid\n",
    "x = 0.7*np.sin(2*np.pi*50*t) + np.sin(2*np.pi*120*t) \n",
    "# plot(0.7*sin(2*pi*50*t)\n",
    "y = x + 2*randn(size(t)) # sinusoids plus noise\n",
    "plot(Fs*t(1:50), y(1:50))\n",
    "title('Signal Corrupted with Zero-Mean Random Noise')\n",
    "xlabel('time(Ms)')"
   ]
  },
  {
   "cell_type": "code",
   "execution_count": null,
   "metadata": {},
   "outputs": [],
   "source": []
  }
 ],
 "metadata": {
  "kernelspec": {
   "display_name": "Python 3",
   "language": "python",
   "name": "python3"
  },
  "language_info": {
   "codemirror_mode": {
    "name": "ipython",
    "version": 3
   },
   "file_extension": ".py",
   "mimetype": "text/x-python",
   "name": "python",
   "nbconvert_exporter": "python",
   "pygments_lexer": "ipython3",
   "version": "3.6.9"
  }
 },
 "nbformat": 4,
 "nbformat_minor": 4
}

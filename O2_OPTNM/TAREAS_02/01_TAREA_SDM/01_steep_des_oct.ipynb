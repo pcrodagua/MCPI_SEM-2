{
 "cells": [
  {
   "cell_type": "markdown",
   "metadata": {},
   "source": [
    "# Steepest Descent Method"
   ]
  },
  {
   "cell_type": "code",
   "execution_count": 5,
   "metadata": {},
   "outputs": [],
   "source": [
    "function fx = func_multivar(x)\n",
    "    fx = 100*(sqrt(x(1).^2  + (x(2)+1).^2) -1).^2 + 90*(sqrt(x(1).^2  + (x(2)+1).^2) -1).^2 - (20.*x(1) + 40.*x(2));\n",
    "end"
   ]
  },
  {
   "cell_type": "code",
   "execution_count": 6,
   "metadata": {},
   "outputs": [],
   "source": [
    "function deriv = grad_vec(x,delx,n_of_var)\n",
    "    xvec = x;\n",
    "    xvec1 = x;\n",
    "    for i = 1:length(x)\n",
    "        xvec = x;\n",
    "        xvec1 = x;\n",
    "        xvec(i) = x(i) + delx;\n",
    "        xvec1(i) = x(i) - delx;\n",
    "        deriv(i) = (func_multivar(xvec) - func_multivar(xvec1))/(2*delx);\n",
    "    end\n",
    "end"
   ]
  },
  {
   "cell_type": "code",
   "execution_count": 7,
   "metadata": {},
   "outputs": [],
   "source": [
    "function [alpha1,falpha1] = golden_funct1(x,search)\n",
    "    a = -5;\n",
    "    b = 5;\n",
    "    tau = 0.381967;\n",
    "    epsilon = 1e-5;\n",
    "    alpha1 = a*(1-tau) + b*tau;\n",
    "    alpha2 = a*tau + b*(1-tau);\n",
    "    falpha1 = func_multivar(x+alpha1*search);\n",
    "    falpha2 = func_multivar(x+alpha2*search);\n",
    "    for i= 1:1000\n",
    "        if falpha1 > falpha2\n",
    "            a = alpha1;\n",
    "            alpha1 = alpha2;\n",
    "            falpha1 = falpha2;\n",
    "            alpha2 = tau*a + (1-tau)*b;\n",
    "            falpha2 = func_multivar(x+alpha2*search);\n",
    "        else\n",
    "            b = alpha2;\n",
    "            alpha2 = alpha1;\n",
    "            falpha2 = falpha1;\n",
    "            alpha1 = tau*b + (1-tau)*a;\n",
    "            falpha1 = func_multivar(x+alpha1*search);\n",
    "        end\n",
    "        if abs(func_multivar(x+alpha1*search)-func_multivar(x+alpha2*search)) < epsilon\n",
    "            break;\n",
    "        end\n",
    "    end\n",
    "end"
   ]
  },
  {
   "cell_type": "code",
   "execution_count": 9,
   "metadata": {},
   "outputs": [
    {
     "name": "stdout",
     "output_type": "stream",
     "text": [
      "Initial function value = 1977.7965\n",
      "  No. x-vector f(x) Deriv \n",
      "__________________________________________\n",
      "  1   -0.647   -0.194   20.932 1218.800\n",
      "  2   -0.307    0.171    7.741   41.073\n",
      "  3    0.955   -1.002   21.362   55.053\n",
      "  4    1.128   -0.816   13.946   54.585\n",
      "  5    0.206    0.043   -5.078   45.853\n",
      "  6    0.256    0.097   -5.962   22.550\n",
      "  7    0.384    0.003   -6.765   11.278\n",
      "  8    0.412    0.041   -7.162   16.827\n",
      "  9    0.475   -0.003   -7.311    4.002\n",
      " 10    0.483    0.008   -7.346    5.063\n",
      " 11    0.499   -0.001   -7.353    0.750\n",
      "__________________________________________\n"
     ]
    }
   ],
   "source": [
    "n_of_var = 2;\n",
    "x = [-3 2];\n",
    "epsilon1 = 1e-3;\n",
    "epsilon2 = 1e-3;\n",
    "delx = 1e-3;\n",
    "falpha_prev = func_multivar(x);\n",
    "fprintf('Initial function value = %7.4f\\n ',falpha_prev)\n",
    "fprintf(' No. x-vector f(x) Deriv \\n')\n",
    "fprintf('__________________________________________\\n')\n",
    "for i = 1:3000\n",
    "        deriv = grad_vec(x,delx,n_of_var);\n",
    "        search = -deriv;\n",
    "        [alpha,falpha] = golden_funct1(x,search);\n",
    "    if abs(falpha-falpha_prev)<epsilon1 || norm(deriv)<epsilon2\n",
    "        break;\n",
    "    end\n",
    "    falpha_prev = falpha;\n",
    "    x = x + alpha*search;\n",
    "    fprintf('%3d %8.3f %8.3f % 8.3f %8.3f\\n',i,x,falpha,norm(deriv))\n",
    "end\n",
    "fprintf('__________________________________________\\n')"
   ]
  },
  {
   "cell_type": "code",
   "execution_count": null,
   "metadata": {},
   "outputs": [],
   "source": []
  }
 ],
 "metadata": {
  "kernelspec": {
   "display_name": "Octave",
   "language": "octave",
   "name": "octave"
  },
  "language_info": {
   "file_extension": ".m",
   "help_links": [
    {
     "text": "GNU Octave",
     "url": "https://www.gnu.org/software/octave/support.html"
    },
    {
     "text": "Octave Kernel",
     "url": "https://github.com/Calysto/octave_kernel"
    },
    {
     "text": "MetaKernel Magics",
     "url": "https://metakernel.readthedocs.io/en/latest/source/README.html"
    }
   ],
   "mimetype": "text/x-octave",
   "name": "octave",
   "version": "4.2.2"
  }
 },
 "nbformat": 4,
 "nbformat_minor": 4
}
